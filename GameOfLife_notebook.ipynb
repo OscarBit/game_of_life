{
 "cells": [
  {
   "cell_type": "markdown",
   "metadata": {},
   "source": [
    "# Game of life\n",
    "\n",
    "Install pygame and numpy libraries"
   ]
  },
  {
   "cell_type": "code",
   "execution_count": 1,
   "metadata": {},
   "outputs": [
    {
     "name": "stdout",
     "output_type": "stream",
     "text": [
      "pygame 1.9.6\n",
      "Hello from the pygame community. https://www.pygame.org/contribute.html\n"
     ]
    }
   ],
   "source": [
    "import numpy as np\n",
    "import pygame\n",
    "import time"
   ]
  },
  {
   "cell_type": "markdown",
   "metadata": {},
   "source": [
    "### Screen\n",
    "* 1000 pixels²\n",
    "* Background black\n",
    "\n",
    "```Python\n",
    "pygame.init()\n",
    "\n",
    "width, height = 1000, 1000\n",
    "screen = pygame.display.set_mode((width,height))\n",
    "\n",
    "bg_color = 20, 20, 20\n",
    "\n",
    "screen.fill(bg_color)\n",
    "```"
   ]
  },
  {
   "cell_type": "markdown",
   "metadata": {},
   "source": [
    "### Cells\n",
    "* Number of cells: N\n",
    "\n",
    "```Python\n",
    "N = 25\n",
    "# Square board\n",
    "nx, ny = N, N\n",
    "\n",
    "dimCW = width / nx\n",
    "dinCH = height / ny\n",
    "```"
   ]
  },
  {
   "cell_type": "markdown",
   "metadata": {},
   "source": [
    "### Initial state\n",
    "* Matrix nx * ny\n",
    "* Function: np.zeros >>> matrix  of ceros\n",
    "\n",
    "```Python\n",
    "stateMatrix = np.zeros((nx,ny))\n",
    "```"
   ]
  },
  {
   "cell_type": "markdown",
   "metadata": {},
   "source": [
    "## Rules\n",
    "* Dead and 3 neighbors >>> Life\n",
    "* Live and n_neighbors more than 3 or less than 2 >>> Dies\n",
    "\n",
    "```Python\n",
    "def lifeordead(stateMatrix,x,y):\n",
    "    # Sum alive neighbors\n",
    "    n_neighbors = stateMatrix[(x-1) % nx,(y-1) % ny] + \\\n",
    "                  stateMatrix[(x-1) % nx,(y) % ny] + \\\n",
    "                  stateMatrix[(x-1) % nx,(y+1) % ny] + \\\n",
    "                  stateMatrix[(x) % nx,(y+1) % ny] + \\\n",
    "                  stateMatrix[(x+1) % nx,(y+1) % ny] + \\\n",
    "                  stateMatrix[(x+1) % nx,(y) % ny] + \\\n",
    "                  stateMatrix[(x+1) % nx,(y-1) % ny] + \\\n",
    "                  stateMatrix[(x) % nx,(y-1) % ny]\n",
    "    if stateMatrix[x, y] == 0 and n_neighbors == 3:\n",
    "        return 1\n",
    "    elif stateMatrix[x, y] == 1 and (n_neighbors < 2 or n_neighbors > 3):\n",
    "        return 0\n",
    "    else:\n",
    "        stateMatrix[x, y]\n",
    "```"
   ]
  },
  {
   "cell_type": "markdown",
   "metadata": {},
   "source": [
    "### Draw using loops\n",
    "* Live color: White RGB Decimal >>> 255, 255, 255\n",
    "* Dead color: Grey RGB Decimal >>> 120, 120, 120\n",
    "* 0 >>> Dead cell\n",
    "* 1 >>> Cell alive\n",
    "\n",
    "```Python\n",
    "dead_color = ( 120, 120, 120 )\n",
    "live_color = ( 255, 255, 255 )\n",
    "line_width = 1\n",
    "while True:\n",
    "    newStateMatrix = np.copy(stateMatrix)\n",
    "    screen.fill(bg_color)\n",
    "    time.sleep(0.1)\n",
    "    for x in range(0, nx):\n",
    "        for y in range(0,ny):\n",
    "            newStateMatrix[x, y] = lifeordead(stateMatrix, x, y)\n",
    "            dots = [\n",
    "                (x) * dimCW, (y) * dimCH,\n",
    "                (x+1) * dimCW, (y) * dimCH,\n",
    "                (x+1) * dimCW, (y+1) * dimCH,\n",
    "                (x) * dimCW, (y+1) * dimCH,\n",
    "            ]\n",
    "            if newStateMatrix[x, y]:\n",
    "                pygame.draw.polygon(screen, live_color, dots, 0)\n",
    "            else:\n",
    "                pygame.draw.polygon(screen, dead_color, dots, line_width)\n",
    "    stateMatrix = np.copy(newStateMatrix)\n",
    "```"
   ]
  },
  {
   "cell_type": "code",
   "execution_count": null,
   "metadata": {},
   "outputs": [],
   "source": []
  }
 ],
 "metadata": {
  "kernelspec": {
   "display_name": "Python 3.6.9 64-bit",
   "language": "python",
   "name": "python36964bit3e7377cf95af4401afcd20b1c6d94e0b"
  },
  "language_info": {
   "codemirror_mode": {
    "name": "ipython",
    "version": 3
   },
   "file_extension": ".py",
   "mimetype": "text/x-python",
   "name": "python",
   "nbconvert_exporter": "python",
   "pygments_lexer": "ipython3",
   "version": "3.6.9"
  }
 },
 "nbformat": 4,
 "nbformat_minor": 2
}
